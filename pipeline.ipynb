{
 "cells": [
  {
   "cell_type": "markdown",
   "metadata": {},
   "source": [
    "# Health Risk Assessment"
   ]
  },
  {
   "cell_type": "markdown",
   "metadata": {},
   "source": [
    "## 1. Project Overview\n",
    "\n",
    "**Objective**:  \n",
    "Predict health risks (e.g., likelihood of developing a chronic condition) based on demographic, lifestyle, and medical data.\n",
    "\n",
    "**Scope**:  \n",
    "This project focuses on analyzing health-related data to build predictive models that estimate the likelihood of an individual developing coronary heart disease (CHD) within the next 10 years. The analysis involves preprocessing the data, performing exploratory data analysis (EDA), and evaluating several classification models to determine which best predicts the risk of CHD.\n",
    "\n",
    "**Dataset**:  \n",
    "The dataset includes various health-related features such as:\n",
    "- **Age**: The age of the individual.\n",
    "- **Gender**: The gender of the individual.\n",
    "- **BMI**: Body Mass Index.\n",
    "- **Smoking Status**: Cigarettes per day.\n",
    "- **Blood Pressure**: Systolic and Diastolic Blood Pressure.\n",
    "- **Cholesterol Levels**: Total cholesterol levels.\n",
    "- **Heart Rate**: Resting heart rate.\n",
    "- **Glucose**: Blood glucose levels.\n",
    "- **Education**: Level of education.\n",
    "- **BPMeds**: Use of blood pressure medication.\n",
    "- **TenYearCHD**: Target variable indicating whether the individual has a 10-year risk of coronary heart disease."
   ]
  },
  {
   "cell_type": "markdown",
   "metadata": {},
   "source": [
    "## 2. Imports"
   ]
  },
  {
   "cell_type": "code",
   "execution_count": null,
   "metadata": {
    "vscode": {
     "languageId": "plaintext"
    }
   },
   "outputs": [],
   "source": []
  }
 ],
 "metadata": {
  "language_info": {
   "name": "python"
  }
 },
 "nbformat": 4,
 "nbformat_minor": 2
}
