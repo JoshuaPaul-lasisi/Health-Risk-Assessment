{
 "cells": [
  {
   "cell_type": "markdown",
   "metadata": {},
   "source": [
    "# Load Model and Data"
   ]
  },
  {
   "cell_type": "code",
   "execution_count": 1,
   "metadata": {},
   "outputs": [],
   "source": [
    "import pickle\n",
    "import pandas as pd\n",
    "model = pickle.load(open('../models/health_model.pkl', 'rb'))\n",
    "data = pd.read_csv('../data/processed/health_clean_other.csv')"
   ]
  },
  {
   "cell_type": "markdown",
   "metadata": {},
   "source": [
    "# Final Evaluation"
   ]
  },
  {
   "cell_type": "code",
   "execution_count": 2,
   "metadata": {},
   "outputs": [
    {
     "name": "stdout",
     "output_type": "stream",
     "text": [
      "              precision    recall  f1-score   support\n",
      "\n",
      "           0       0.87      1.00      0.93      3596\n",
      "           1       0.88      0.18      0.30       644\n",
      "\n",
      "    accuracy                           0.87      4240\n",
      "   macro avg       0.88      0.59      0.62      4240\n",
      "weighted avg       0.87      0.87      0.83      4240\n",
      "\n"
     ]
    }
   ],
   "source": [
    "from sklearn.metrics import classification_report\n",
    "X = data.drop(columns=['TenYearCHD', 'age_bins'])\n",
    "y = data['TenYearCHD']\n",
    "\n",
    "y_pred = model.predict(X)\n",
    "report = classification_report(y, y_pred)\n",
    "print(report)"
   ]
  },
  {
   "cell_type": "code",
   "execution_count": 3,
   "metadata": {},
   "outputs": [
    {
     "name": "stdout",
     "output_type": "stream",
     "text": [
      "Classification report saved to ../reports/classification_report.pdf\n"
     ]
    }
   ],
   "source": [
    "from fpdf import FPDF\n",
    "\n",
    "# Create a PDF class to format the text\n",
    "class PDF(FPDF):\n",
    "    def header(self):\n",
    "        self.set_font('Arial', 'B', 12)\n",
    "        self.cell(200, 10, 'Classification Report', 0, 1, 'C')\n",
    "\n",
    "    def footer(self):\n",
    "        self.set_y(-15)\n",
    "        self.set_font('Arial', 'I', 8)\n",
    "        self.cell(0, 10, 'Page %s' % self.page_no(), 0, 0, 'C')\n",
    "\n",
    "# Instantiate PDF object\n",
    "pdf = PDF()\n",
    "pdf.add_page()\n",
    "\n",
    "# Set font for the body of the PDF\n",
    "pdf.set_font('Arial', '', 12)\n",
    "\n",
    "# Add the report text to the PDF\n",
    "for line in report.split('\\n'):\n",
    "    pdf.cell(200, 10, line, 0, 1)\n",
    "\n",
    "# Save the PDF to a file\n",
    "pdf_file_path = \"../reports/classification_report.pdf\"\n",
    "pdf.output(pdf_file_path)\n",
    "\n",
    "print(f\"Classification report saved to {pdf_file_path}\")"
   ]
  },
  {
   "cell_type": "markdown",
   "metadata": {},
   "source": [
    "# Confusion Matrix"
   ]
  },
  {
   "cell_type": "code",
   "execution_count": 4,
   "metadata": {},
   "outputs": [
    {
     "data": {
      "image/png": "[encoded data removed]",
      "text/plain": [
       "<Figure size 640x480 with 2 Axes>"
      ]
     },
     "metadata": {},
     "output_type": "display_data"
    }
   ],
   "source": [
    "from sklearn.metrics import confusion_matrix\n",
    "import seaborn as sns\n",
    "import matplotlib.pyplot as plt\n",
    "cm = confusion_matrix(y, y_pred)\n",
    "sns.heatmap(cm, annot=True, fmt=\"d\", cmap=\"Blues\")\n",
    "plt.title('Confusion Matrix')\n",
    "plt.savefig('../reports/plots/final_model/confusion_matrix.png')\n",
    "plt.show()"
   ]
  }
 ],
 "metadata": {
  "kernelspec": {
   "display_name": "Python 3",
   "language": "python",
   "name": "python3"
  },
  "language_info": {
   "codemirror_mode": {
    "name": "ipython",
    "version": 3
   },
   "file_extension": ".py",
   "mimetype": "text/x-python",
   "name": "python",
   "nbconvert_exporter": "python",
   "pygments_lexer": "ipython3",
   "version": "3.12.1"
  }
 },
 "nbformat": 4,
 "nbformat_minor": 2
}
